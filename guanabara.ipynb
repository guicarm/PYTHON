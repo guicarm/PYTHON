{
 "cells": [
  {
   "cell_type": "code",
   "execution_count": 3,
   "metadata": {},
   "outputs": [
    {
     "name": "stdout",
     "output_type": "stream",
     "text": [
      "pedro\n",
      "25\n"
     ]
    }
   ],
   "source": [
    "# ------------ CRIANDO O DICIONÁRIO\n",
    "dados = dict()\n",
    "dados = {\"nome\" : \"pedro\", \"idade\" : 25}\n",
    "print(dados[\"nome\"])\n",
    "print(dados[\"idade\"])\n",
    "# ---------------------------------"
   ]
  },
  {
   "cell_type": "code",
   "execution_count": 6,
   "metadata": {},
   "outputs": [
    {
     "name": "stdout",
     "output_type": "stream",
     "text": [
      "M\n",
      "{'nome': 'pedro', 'sexo': 'M'}\n"
     ]
    }
   ],
   "source": [
    "# ------------ ADICIONANDO NOVAS KEYS E VALUES\n",
    "dados[\"sexo\"] = \"M\"\n",
    "print(dados[\"sexo\"])\n",
    "\n",
    "# ------------ REMOVENDO NOVAS KEYS E VALUES\n",
    "del dados[\"idade\"]\n",
    "print(dados)"
   ]
  },
  {
   "cell_type": "code",
   "execution_count": 9,
   "metadata": {},
   "outputs": [
    {
     "name": "stdout",
     "output_type": "stream",
     "text": [
      "{'titulo': 'Star Wars', 'ano': '1977', 'diretor': 'George Lucas'}\n",
      "dict_values(['Star Wars', '1977', 'George Lucas'])\n",
      "dict_keys(['titulo', 'ano', 'diretor'])\n",
      "dict_items([('titulo', 'Star Wars'), ('ano', '1977'), ('diretor', 'George Lucas')])\n"
     ]
    }
   ],
   "source": [
    "filme = {\n",
    "    'titulo' : 'Star Wars',\n",
    "    'ano' : '1977',\n",
    "    'diretor' : 'George Lucas'\n",
    "}\n",
    "print(filme)\n",
    "\n",
    "# ------------ IMPRIMINDO SOMENTE VALORES OU KEYS\n",
    "print(filme.values())\n",
    "print(filme.keys())\n",
    "print(filme.items())"
   ]
  },
  {
   "cell_type": "code",
   "execution_count": 15,
   "metadata": {},
   "outputs": [
    {
     "name": "stdout",
     "output_type": "stream",
     "text": [
      "titulo: Star Wars\n",
      "ano: 1977\n",
      "diretor: George Lucas\n"
     ]
    }
   ],
   "source": [
    "#---------- LAÇOS\n",
    "for k,v in filme.items():\n",
    "    print(f'{k}: {v}')\n",
    "\n"
   ]
  },
  {
   "cell_type": "code",
   "execution_count": 19,
   "metadata": {},
   "outputs": [
    {
     "name": "stdout",
     "output_type": "stream",
     "text": [
      "{'nome': 'gustavo', 'sexo': 'm', 'idade': 22}\n",
      "gustavo\n",
      "O gustavo tem 22 anos\n"
     ]
    }
   ],
   "source": [
    "pessoas = {\n",
    "    'nome' : 'gustavo',\n",
    "    'sexo' : 'm',\n",
    "    'idade' : 22\n",
    "}\n",
    "\n",
    "print(pessoas)\n",
    "print (pessoas['nome'])\n",
    "print(f'O {pessoas[\"nome\"]} tem {pessoas[\"idade\"]} anos')\n",
    "\n",
    "print(pessoas.keys())"
   ]
  }
 ],
 "metadata": {
  "kernelspec": {
   "display_name": "Python 3",
   "language": "python",
   "name": "python3"
  },
  "language_info": {
   "codemirror_mode": {
    "name": "ipython",
    "version": 3
   },
   "file_extension": ".py",
   "mimetype": "text/x-python",
   "name": "python",
   "nbconvert_exporter": "python",
   "pygments_lexer": "ipython3",
   "version": "3.10.11"
  },
  "orig_nbformat": 4
 },
 "nbformat": 4,
 "nbformat_minor": 2
}
