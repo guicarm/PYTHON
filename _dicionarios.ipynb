{
 "cells": [
  {
   "attachments": {},
   "cell_type": "markdown",
   "metadata": {},
   "source": [
    "### Dicionários\n",
    "Dicionários são estruturas de dados que trabalham com keys (campos) ao invés de índices.\n",
    "Colocamos toda estrutura entre chaves. Os campos (keys) e valores (values) são separados por dois pontos (:)."
   ]
  },
  {
   "attachments": {},
   "cell_type": "markdown",
   "metadata": {},
   "source": [
    "#### Criando um dicionário vazio"
   ]
  },
  {
   "cell_type": "code",
   "execution_count": 33,
   "metadata": {},
   "outputs": [],
   "source": [
    "dados = dict() # ou dados = {}\n",
    "\n"
   ]
  },
  {
   "attachments": {},
   "cell_type": "markdown",
   "metadata": {},
   "source": [
    "#### Criando um dicionário com valores iniciais"
   ]
  },
  {
   "cell_type": "code",
   "execution_count": 34,
   "metadata": {},
   "outputs": [
    {
     "name": "stdout",
     "output_type": "stream",
     "text": [
      "{'nome': 'Edson de Oliveira', 'idade': 49}\n"
     ]
    }
   ],
   "source": [
    "dados = {\n",
    "    'nome': 'Edson de Oliveira',\n",
    "    'idade': 49,\n",
    "}\n",
    "\n",
    "print(dados)"
   ]
  },
  {
   "attachments": {},
   "cell_type": "markdown",
   "metadata": {},
   "source": [
    "#### Acrescentando uma key (campo)"
   ]
  },
  {
   "cell_type": "code",
   "execution_count": 35,
   "metadata": {},
   "outputs": [
    {
     "name": "stdout",
     "output_type": "stream",
     "text": [
      "{'nome': 'Edson de Oliveira', 'idade': 49}\n",
      "{'nome': 'Edson de Oliveira', 'idade': 49, 'email': 'edson@fiap.com.br'}\n"
     ]
    }
   ],
   "source": [
    "# Exibindo o estado do dicionário\n",
    "print (dados)\n",
    "dados[\"email\"] = 'edson@fiap.com.br'\n",
    "print (dados)"
   ]
  },
  {
   "attachments": {},
   "cell_type": "markdown",
   "metadata": {},
   "source": [
    "#### Excluindo uma key"
   ]
  },
  {
   "cell_type": "code",
   "execution_count": 36,
   "metadata": {},
   "outputs": [
    {
     "data": {
      "text/plain": [
       "'\\nprint(dados)\\ndel dados[\"idade\"]\\nprint(dados)\\n'"
      ]
     },
     "execution_count": 36,
     "metadata": {},
     "output_type": "execute_result"
    }
   ],
   "source": [
    "\"\"\"\n",
    "print(dados)\n",
    "del dados[\"idade\"]\n",
    "print(dados)\n",
    "\"\"\""
   ]
  },
  {
   "attachments": {},
   "cell_type": "markdown",
   "metadata": {},
   "source": [
    "#### Exibindo os campos, valores"
   ]
  },
  {
   "cell_type": "code",
   "execution_count": 37,
   "metadata": {},
   "outputs": [
    {
     "name": "stdout",
     "output_type": "stream",
     "text": [
      "Nome........: Edson de Oliveira\n",
      "Idade.......: 49\n",
      "E-mail......: edson@fiap.com.br\n"
     ]
    }
   ],
   "source": [
    "dados = {\n",
    "    'nome': 'Edson de Oliveira',\n",
    "    'idade': 49,\n",
    "    'email': 'edson@fiap.com.br'\n",
    "}\n",
    "\n",
    "print(f\"Nome........: {dados['nome']}\")\n",
    "print(f\"Idade.......: {dados['idade']}\")\n",
    "print(f\"E-mail......: {dados['email']}\")"
   ]
  },
  {
   "attachments": {},
   "cell_type": "markdown",
   "metadata": {},
   "source": [
    "### Métodos relacionados a dicionários\n",
    "#### values()\n",
    "O método values mostra todos os valores contidos no dicionário\n"
   ]
  },
  {
   "cell_type": "code",
   "execution_count": 38,
   "metadata": {},
   "outputs": [
    {
     "name": "stdout",
     "output_type": "stream",
     "text": [
      "Valores do dicionário: dict_values(['Edson de Oliveira', 49, 'edson@fiap.com.br'])\n",
      "['Edson de Oliveira', 49, 'edson@fiap.com.br']\n",
      "Edson de Oliveira\n"
     ]
    }
   ],
   "source": [
    "print(f\"Valores do dicionário: {dados.values()}\")\n",
    "#lista = dados.values()\n",
    "#print(lista)\n",
    "#print(lista[0])\n",
    "lista = list(dados.values())\n",
    "print(lista)\n",
    "print(lista[0])"
   ]
  },
  {
   "attachments": {},
   "cell_type": "markdown",
   "metadata": {},
   "source": [
    "#### heys()\n",
    "O método keys mostra o nome de todos os campos (keys)"
   ]
  },
  {
   "cell_type": "code",
   "execution_count": 39,
   "metadata": {},
   "outputs": [
    {
     "name": "stdout",
     "output_type": "stream",
     "text": [
      "Campos do dicionário: dict_keys(['nome', 'idade', 'email'])\n"
     ]
    }
   ],
   "source": [
    "print(f\"Campos do dicionário: {dados.keys()}\")"
   ]
  },
  {
   "attachments": {},
   "cell_type": "markdown",
   "metadata": {},
   "source": [
    "### items()\n",
    "O método items retorna tanto a key quanto o value (campos e valores respectivamente)"
   ]
  },
  {
   "cell_type": "code",
   "execution_count": 40,
   "metadata": {},
   "outputs": [
    {
     "name": "stdout",
     "output_type": "stream",
     "text": [
      "dict_items([('nome', 'Edson de Oliveira'), ('idade', 49), ('email', 'edson@fiap.com.br')])\n",
      "{'nome': 'Edson de Oliveira', 'idade': 49, 'email': 'edson@fiap.com.br'}\n"
     ]
    }
   ],
   "source": [
    "print(dados.items())\n",
    "print(dados)"
   ]
  },
  {
   "attachments": {},
   "cell_type": "markdown",
   "metadata": {},
   "source": [
    "#### Exemplos:"
   ]
  },
  {
   "cell_type": "code",
   "execution_count": 41,
   "metadata": {},
   "outputs": [
    {
     "name": "stdout",
     "output_type": "stream",
     "text": [
      "{'nome': 'Edson de Oliveira', 'idade': 49, 'email': 'edson@fiap.com.br'}\n",
      "\n",
      "Nome........: Edson de Oliveira\n",
      "Idade.......: 49\n",
      "E-mail......: edson@fiap.com.br\n",
      "\n",
      "O campo 'nome' tem o conteúdo 'Edson de Oliveira'\n",
      "O campo 'idade' tem o conteúdo '49'\n",
      "O campo 'email' tem o conteúdo 'edson@fiap.com.br'\n",
      "\n",
      "nome: Edson de Oliveira\n",
      "idade: 49\n",
      "email: edson@fiap.com.br\n",
      "endereco: Rua tal\n"
     ]
    }
   ],
   "source": [
    "# Exibindo o dicionário bruto\n",
    "print(dados)\n",
    "\n",
    "# Exibindo elemento a elemento\n",
    "print(f\"\\nNome........: {dados['nome']}\")\n",
    "print(f\"Idade.......: {dados['idade']}\")\n",
    "print(f\"E-mail......: {dados['email']}\\n\")\n",
    "\n",
    "# Exibindo capturando os elementos\n",
    "for k, v in dados.items():\n",
    "    print(f\"O campo '{k}' tem o conteúdo '{v}'\")\n",
    "\n",
    "\n",
    "print()\n",
    "dados['endereco'] = \"Rua tal\"\n",
    "for k, v in dados.items():\n",
    "    print(f\"{k}: {v}\")\n",
    "\n"
   ]
  },
  {
   "attachments": {},
   "cell_type": "markdown",
   "metadata": {},
   "source": [
    "### Exercício:\n",
    "Crie um dicionário com 5 campos a sua escolha (preferencialmente use tipos diferentes) e faça as seguintes operações:\n",
    "```\n",
    "1 - Exibir todo o conteudo do dicionario\n",
    "2 - Inserir um campo no dicionario\n",
    "3 - Alterar o valor de um campo\n",
    "4 - Exibir um campo específico\n",
    "5 - Remover um campo específico\n",
    "```"
   ]
  },
  {
   "attachments": {},
   "cell_type": "markdown",
   "metadata": {},
   "source": [
    "Depois de concluir cada exercício, crie um menu (semelhante à exposição acima) que trate as operações. <br>\n",
    "* Considere apllicar todo conceito com subalgoritmos\n"
   ]
  }
 ],
 "metadata": {
  "kernelspec": {
   "display_name": "Python 3",
   "language": "python",
   "name": "python3"
  },
  "language_info": {
   "codemirror_mode": {
    "name": "ipython",
    "version": 3
   },
   "file_extension": ".py",
   "mimetype": "text/x-python",
   "name": "python",
   "nbconvert_exporter": "python",
   "pygments_lexer": "ipython3",
   "version": "3.11.4"
  },
  "orig_nbformat": 4
 },
 "nbformat": 4,
 "nbformat_minor": 2
}
