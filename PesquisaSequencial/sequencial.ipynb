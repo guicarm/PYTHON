{
 "cells": [
  {
   "cell_type": "markdown",
   "metadata": {},
   "source": [
    "### MÉTODO DE PESQUISA SEQUENCIAL\n",
    "\n",
    "> Procura o valor desde o primeiro elemento até encontrá-lo ou não."
   ]
  },
  {
   "cell_type": "code",
   "execution_count": 4,
   "metadata": {},
   "outputs": [
    {
     "name": "stdout",
     "output_type": "stream",
     "text": [
      "[34, 76, 67, 12, 89, 55, 33, 22, 99, 14]\n",
      "Não encontrou o valor 122!\n"
     ]
    }
   ],
   "source": [
    "#----------------------- CÓDIGO SEM INTERAÇÃO DO USUÁRIO (INPUT) --------------------------------\n",
    "lista = [34, 76, 67, 12, 89, 55, 33, 22, 99, 14]\n",
    "\n",
    "print(lista)\n",
    "valor = 122\n",
    "achou = False\n",
    "for elem in lista:\n",
    "    if elem == valor:\n",
    "        achou = True\n",
    "        break\n",
    "\n",
    "if achou:\n",
    "    print(f\"Encontrou o valor {valor}!\")\n",
    "else:\n",
    "    print(f\"Não encontrou o valor {valor}!\")"
   ]
  },
  {
   "cell_type": "code",
   "execution_count": 3,
   "metadata": {},
   "outputs": [
    {
     "name": "stdout",
     "output_type": "stream",
     "text": [
      "[34, 76, 67, 12, 89, 55, 33, 22, 99, 14]\n",
      "Não enncontrou o valor 188!\n"
     ]
    }
   ],
   "source": [
    "#----------------------- CÓDIGO COM INTERAÇÃO DO USUÁRIO (INPUT) --------------------------------\n",
    "lista = [34, 76, 67, 12, 89, 55, 33, 22, 99, 14]\n",
    "\n",
    "print(lista)\n",
    "valor = int(input(\"Digite o valor que deseja encontrar na lista: \"))\n",
    "achou = False\n",
    "for elem in lista:\n",
    "    if elem == valor:\n",
    "        achou = True\n",
    "        break\n",
    "\n",
    "if achou:\n",
    "    print(f\"Encontrou o valor {valor}!\")\n",
    "else:\n",
    "    print(f\"Não encontrou o valor {valor}!\")"
   ]
  },
  {
   "cell_type": "markdown",
   "metadata": {},
   "source": [
    "=======================================================================================================\n",
    "## Ordenação de lista"
   ]
  },
  {
   "cell_type": "code",
   "execution_count": 14,
   "metadata": {},
   "outputs": [
    {
     "name": "stdout",
     "output_type": "stream",
     "text": [
      "[34, 76, 67, 12, 89, 55, 33, 22, 99, 14]\n",
      "[12, 14, 22, 33, 34, 55, 67, 76, 89, 99]\n"
     ]
    }
   ],
   "source": [
    "#----------------------- LISTA DESORDENADA --------------------------------\n",
    "#        0    1   2   3   4   5   6   7   8   9\n",
    "lista = [34, 76, 67, 12, 89, 55, 33, 22, 99, 14]\n",
    "print(lista)\n",
    "#----------------------- ROTINA QUE ORDENA --------------------------------\n",
    "for trav in range(0, len(lista) - 1, 1):\n",
    "    for prox in range(trav + 1, len(lista), 1):\n",
    "        if lista[trav] > lista[prox]:\n",
    "            aux = lista[trav]\n",
    "            lista[trav] = lista[prox]\n",
    "            lista[prox] = aux\n",
    "#----------------------- EXIBIÇÃO DA LISTA ORDENADA --------------------------------\n",
    "print(lista)"
   ]
  },
  {
   "cell_type": "code",
   "execution_count": 15,
   "metadata": {},
   "outputs": [
    {
     "name": "stdout",
     "output_type": "stream",
     "text": [
      "Lista desordenada: [34, 76, 67, 12, 89, 55, 33, 22, 99, 14]\n",
      "Lista ordenada: [12, 14, 22, 33, 34, 55, 67, 76, 89, 99]\n"
     ]
    }
   ],
   "source": [
    "#----------------------- ORDENANDO A LISTA UTILIZANDO .SORT --------------------------------\n",
    "lista = [34, 76, 67, 12, 89, 55, 33, 22, 99, 14]\n",
    "print(f\"Lista desordenada: {lista}\")\n",
    "\n",
    "lista.sort()\n",
    "print(f\"Lista ordenada: {lista}\")"
   ]
  }
 ],
 "metadata": {
  "kernelspec": {
   "display_name": "Python 3",
   "language": "python",
   "name": "python3"
  },
  "language_info": {
   "codemirror_mode": {
    "name": "ipython",
    "version": 3
   },
   "file_extension": ".py",
   "mimetype": "text/x-python",
   "name": "python",
   "nbconvert_exporter": "python",
   "pygments_lexer": "ipython3",
   "version": "3.10.11"
  },
  "orig_nbformat": 4
 },
 "nbformat": 4,
 "nbformat_minor": 2
}
